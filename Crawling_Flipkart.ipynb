{
 "cells": [
  {
   "cell_type": "code",
   "execution_count": 1,
   "metadata": {},
   "outputs": [],
   "source": [
    "# bs4 - Beautiful Soup\n",
    "# urllib.request\n",
    "import bs4\n",
    "import urllib.request as url"
   ]
  },
  {
   "cell_type": "code",
   "execution_count": 2,
   "metadata": {},
   "outputs": [],
   "source": [
    "path = \"https://www.flipkart.com/search?q=mobile&otracker=search&otracker1=search&marketplace=FLIPKART&as-show=on&as=off\""
   ]
  },
  {
   "cell_type": "code",
   "execution_count": 3,
   "metadata": {},
   "outputs": [
    {
     "data": {
      "text/plain": [
       "<http.client.HTTPResponse at 0x1a47c1012c8>"
      ]
     },
     "execution_count": 3,
     "metadata": {},
     "output_type": "execute_result"
    }
   ],
   "source": [
    "url.urlopen(path)"
   ]
  },
  {
   "cell_type": "code",
   "execution_count": 4,
   "metadata": {},
   "outputs": [],
   "source": [
    "response = url.urlopen(path)"
   ]
  },
  {
   "cell_type": "code",
   "execution_count": 5,
   "metadata": {},
   "outputs": [
    {
     "data": {
      "text/plain": [
       "<http.client.HTTPResponse at 0x1a47c0fb7c8>"
      ]
     },
     "execution_count": 5,
     "metadata": {},
     "output_type": "execute_result"
    }
   ],
   "source": [
    "response"
   ]
  },
  {
   "cell_type": "code",
   "execution_count": 6,
   "metadata": {},
   "outputs": [],
   "source": [
    "page = bs4.BeautifulSoup(response)"
   ]
  },
  {
   "cell_type": "code",
   "execution_count": 7,
   "metadata": {},
   "outputs": [
    {
     "data": {
      "text/plain": [
       "<div class=\"_3wU53n\">Redmi 8 (Onyx Black, 64 GB)</div>"
      ]
     },
     "execution_count": 7,
     "metadata": {},
     "output_type": "execute_result"
    }
   ],
   "source": [
    "page.find('div', class_='_3wU53n')"
   ]
  },
  {
   "cell_type": "code",
   "execution_count": 8,
   "metadata": {},
   "outputs": [],
   "source": [
    "title = page.find('div', class_='_3wU53n')"
   ]
  },
  {
   "cell_type": "code",
   "execution_count": 9,
   "metadata": {},
   "outputs": [
    {
     "data": {
      "text/plain": [
       "'Redmi 8 (Onyx Black, 64 GB)'"
      ]
     },
     "execution_count": 9,
     "metadata": {},
     "output_type": "execute_result"
    }
   ],
   "source": [
    "title.text"
   ]
  },
  {
   "cell_type": "code",
   "execution_count": 18,
   "metadata": {},
   "outputs": [],
   "source": [
    "price = page.find('div', class_='_1vC4OE _2rQ-NK')"
   ]
  },
  {
   "cell_type": "code",
   "execution_count": 19,
   "metadata": {},
   "outputs": [
    {
     "data": {
      "text/plain": [
       "'₹9,799'"
      ]
     },
     "execution_count": 19,
     "metadata": {},
     "output_type": "execute_result"
    }
   ],
   "source": [
    "price.text"
   ]
  },
  {
   "cell_type": "code",
   "execution_count": null,
   "metadata": {},
   "outputs": [],
   "source": []
  },
  {
   "cell_type": "code",
   "execution_count": 14,
   "metadata": {},
   "outputs": [],
   "source": [
    "titleList = page.find_all('div', class_='_3wU53n')\n",
    "priceList = page.find_all('div', class_='_1vC4OE _2rQ-NK')"
   ]
  },
  {
   "cell_type": "code",
   "execution_count": 15,
   "metadata": {},
   "outputs": [
    {
     "data": {
      "text/plain": [
       "(24, 24)"
      ]
     },
     "execution_count": 15,
     "metadata": {},
     "output_type": "execute_result"
    }
   ],
   "source": [
    "len(titleList), len(priceList)"
   ]
  },
  {
   "cell_type": "code",
   "execution_count": 20,
   "metadata": {},
   "outputs": [
    {
     "name": "stdout",
     "output_type": "stream",
     "text": [
      "Redmi 8 (Onyx Black, 64 GB)\n",
      "₹9,799\n",
      "********************\n",
      "Redmi 8 (Sapphire Blue, 64 GB)\n",
      "₹9,799\n",
      "********************\n",
      "POCO X2 (Atlantis Blue, 64 GB)\n",
      "₹17,499\n",
      "********************\n",
      "Realme 6 (Comet Blue, 64 GB)\n",
      "₹15,999\n",
      "********************\n",
      "POCO X2 (Matrix Purple, 64 GB)\n",
      "₹17,499\n",
      "********************\n",
      "Realme Narzo 10A (So White, 32 GB)\n",
      "₹8,999\n",
      "********************\n",
      "Realme Narzo 10A (So White, 64 GB)\n",
      "₹9,999\n",
      "********************\n",
      "Realme Narzo 10A (So Blue, 64 GB)\n",
      "₹9,999\n",
      "********************\n",
      "Realme Narzo 10A (So Blue, 32 GB)\n",
      "₹8,999\n",
      "********************\n",
      "Realme 6 (Comet White, 64 GB)\n",
      "₹15,999\n",
      "********************\n",
      "Apple iPhone XR (Black, 64 GB)\n",
      "₹46,999\n",
      "********************\n",
      "Realme Narzo 10 (That Green, 128 GB)\n",
      "₹11,999\n",
      "********************\n",
      "Realme Narzo 10 (That White, 128 GB)\n",
      "₹11,999\n",
      "********************\n",
      "Realme Narzo 10 (That Blue, 128 GB)\n",
      "₹11,999\n",
      "********************\n",
      "Motorola G8 Power Lite (Royal Blue, 64 GB)\n",
      "₹9,499\n",
      "********************\n",
      "Realme 6 Pro (Lightning Orange, 64 GB)\n",
      "₹17,999\n",
      "********************\n",
      "Realme 6 Pro (Lightning Blue, 64 GB)\n",
      "₹17,999\n",
      "********************\n",
      "Motorola G8 Power Lite (Arctic Blue, 64 GB)\n",
      "₹9,499\n",
      "********************\n",
      "Apple iPhone SE (Black, 64 GB)\n",
      "₹40,999\n",
      "********************\n",
      "Realme 6 Pro (Lightning Blue, 128 GB)\n",
      "₹18,999\n",
      "********************\n",
      "Apple iPhone SE (White, 64 GB)\n",
      "₹40,999\n",
      "********************\n",
      "Apple iPhone XR ((PRODUCT)RED, 64 GB)\n",
      "₹46,999\n",
      "********************\n",
      "OPPO A9 2020 (Marine Green, 128 GB)\n",
      "₹13,990\n",
      "********************\n",
      "OPPO A9 2020 (Vanilla Mint, 128 GB)\n",
      "₹16,878\n",
      "********************\n"
     ]
    }
   ],
   "source": [
    "for i in range(len(titleList)):\n",
    "    print(titleList[i].text)\n",
    "    print(priceList[i].text)\n",
    "    print(\"*\" * 20)"
   ]
  },
  {
   "cell_type": "code",
   "execution_count": 23,
   "metadata": {},
   "outputs": [],
   "source": [
    "# url.urlopen('https://www.naukri.com/')"
   ]
  },
  {
   "cell_type": "code",
   "execution_count": 25,
   "metadata": {},
   "outputs": [],
   "source": [
    "dataset = {\n",
    "    \"product_name\" : [],\n",
    "    \"prodcut_price\" : []\n",
    "}"
   ]
  },
  {
   "cell_type": "code",
   "execution_count": 26,
   "metadata": {},
   "outputs": [],
   "source": [
    "for i in range(1,5):\n",
    "    path = \"https://www.flipkart.com/search?q=mobile&otracker=search&otracker1=search&marketplace=FLIPKART&as-show=on&as=off&page=\"+str(i)\n",
    "    response = url.urlopen(path)\n",
    "    page = bs4.BeautifulSoup(response)\n",
    "    \n",
    "    titleList = page.find_all('div', class_='_3wU53n')\n",
    "    priceList = page.find_all('div', class_='_1vC4OE _2rQ-NK')\n",
    "    \n",
    "    for j in range(len(titleList)):\n",
    "        dataset['product_name'].append(titleList[j].text)\n",
    "        dataset['prodcut_price'].append(priceList[j].text)"
   ]
  },
  {
   "cell_type": "code",
   "execution_count": 28,
   "metadata": {},
   "outputs": [],
   "source": [
    "import pandas as pd"
   ]
  },
  {
   "cell_type": "code",
   "execution_count": 29,
   "metadata": {},
   "outputs": [],
   "source": [
    "df = pd.DataFrame(dataset)"
   ]
  },
  {
   "cell_type": "code",
   "execution_count": 31,
   "metadata": {},
   "outputs": [
    {
     "data": {
      "text/html": [
       "<div>\n",
       "<style scoped>\n",
       "    .dataframe tbody tr th:only-of-type {\n",
       "        vertical-align: middle;\n",
       "    }\n",
       "\n",
       "    .dataframe tbody tr th {\n",
       "        vertical-align: top;\n",
       "    }\n",
       "\n",
       "    .dataframe thead th {\n",
       "        text-align: right;\n",
       "    }\n",
       "</style>\n",
       "<table border=\"1\" class=\"dataframe\">\n",
       "  <thead>\n",
       "    <tr style=\"text-align: right;\">\n",
       "      <th></th>\n",
       "      <th>product_name</th>\n",
       "      <th>prodcut_price</th>\n",
       "    </tr>\n",
       "  </thead>\n",
       "  <tbody>\n",
       "    <tr>\n",
       "      <th>0</th>\n",
       "      <td>Redmi 8 (Onyx Black, 64 GB)</td>\n",
       "      <td>₹9,799</td>\n",
       "    </tr>\n",
       "    <tr>\n",
       "      <th>1</th>\n",
       "      <td>Redmi 8 (Sapphire Blue, 64 GB)</td>\n",
       "      <td>₹9,799</td>\n",
       "    </tr>\n",
       "    <tr>\n",
       "      <th>2</th>\n",
       "      <td>POCO X2 (Atlantis Blue, 64 GB)</td>\n",
       "      <td>₹17,499</td>\n",
       "    </tr>\n",
       "    <tr>\n",
       "      <th>3</th>\n",
       "      <td>I Kall K700 (Red, 32 GB)</td>\n",
       "      <td>₹6,999</td>\n",
       "    </tr>\n",
       "    <tr>\n",
       "      <th>4</th>\n",
       "      <td>Realme 6 (Comet Blue, 64 GB)</td>\n",
       "      <td>₹15,999</td>\n",
       "    </tr>\n",
       "  </tbody>\n",
       "</table>\n",
       "</div>"
      ],
      "text/plain": [
       "                     product_name prodcut_price\n",
       "0     Redmi 8 (Onyx Black, 64 GB)        ₹9,799\n",
       "1  Redmi 8 (Sapphire Blue, 64 GB)        ₹9,799\n",
       "2  POCO X2 (Atlantis Blue, 64 GB)       ₹17,499\n",
       "3        I Kall K700 (Red, 32 GB)        ₹6,999\n",
       "4    Realme 6 (Comet Blue, 64 GB)       ₹15,999"
      ]
     },
     "execution_count": 31,
     "metadata": {},
     "output_type": "execute_result"
    }
   ],
   "source": [
    "df.head()"
   ]
  },
  {
   "cell_type": "code",
   "execution_count": 32,
   "metadata": {},
   "outputs": [
    {
     "data": {
      "text/html": [
       "<div>\n",
       "<style scoped>\n",
       "    .dataframe tbody tr th:only-of-type {\n",
       "        vertical-align: middle;\n",
       "    }\n",
       "\n",
       "    .dataframe tbody tr th {\n",
       "        vertical-align: top;\n",
       "    }\n",
       "\n",
       "    .dataframe thead th {\n",
       "        text-align: right;\n",
       "    }\n",
       "</style>\n",
       "<table border=\"1\" class=\"dataframe\">\n",
       "  <thead>\n",
       "    <tr style=\"text-align: right;\">\n",
       "      <th></th>\n",
       "      <th>product_name</th>\n",
       "      <th>prodcut_price</th>\n",
       "    </tr>\n",
       "  </thead>\n",
       "  <tbody>\n",
       "    <tr>\n",
       "      <th>91</th>\n",
       "      <td>Nokia 105 SS</td>\n",
       "      <td>₹1,309</td>\n",
       "    </tr>\n",
       "    <tr>\n",
       "      <th>92</th>\n",
       "      <td>Nokia 105 SS</td>\n",
       "      <td>₹1,349</td>\n",
       "    </tr>\n",
       "    <tr>\n",
       "      <th>93</th>\n",
       "      <td>Vivo Z1Pro (Sonic Black, 128 GB)</td>\n",
       "      <td>₹17,990</td>\n",
       "    </tr>\n",
       "    <tr>\n",
       "      <th>94</th>\n",
       "      <td>Lava A1</td>\n",
       "      <td>₹953</td>\n",
       "    </tr>\n",
       "    <tr>\n",
       "      <th>95</th>\n",
       "      <td>Lava A1</td>\n",
       "      <td>₹941</td>\n",
       "    </tr>\n",
       "  </tbody>\n",
       "</table>\n",
       "</div>"
      ],
      "text/plain": [
       "                        product_name prodcut_price\n",
       "91                      Nokia 105 SS        ₹1,309\n",
       "92                      Nokia 105 SS        ₹1,349\n",
       "93  Vivo Z1Pro (Sonic Black, 128 GB)       ₹17,990\n",
       "94                           Lava A1          ₹953\n",
       "95                           Lava A1          ₹941"
      ]
     },
     "execution_count": 32,
     "metadata": {},
     "output_type": "execute_result"
    }
   ],
   "source": [
    "df.tail()"
   ]
  },
  {
   "cell_type": "code",
   "execution_count": 33,
   "metadata": {},
   "outputs": [
    {
     "data": {
      "text/plain": [
       "(96, 2)"
      ]
     },
     "execution_count": 33,
     "metadata": {},
     "output_type": "execute_result"
    }
   ],
   "source": [
    "df.shape"
   ]
  },
  {
   "cell_type": "code",
   "execution_count": null,
   "metadata": {},
   "outputs": [],
   "source": []
  }
 ],
 "metadata": {
  "kernelspec": {
   "display_name": "Python 3",
   "language": "python",
   "name": "python3"
  },
  "language_info": {
   "codemirror_mode": {
    "name": "ipython",
    "version": 3
   },
   "file_extension": ".py",
   "mimetype": "text/x-python",
   "name": "python",
   "nbconvert_exporter": "python",
   "pygments_lexer": "ipython3",
   "version": "3.7.4"
  }
 },
 "nbformat": 4,
 "nbformat_minor": 4
}
